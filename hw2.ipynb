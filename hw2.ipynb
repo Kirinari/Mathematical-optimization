{
 "cells": [
  {
   "cell_type": "code",
   "execution_count": null,
   "metadata": {},
   "outputs": [],
   "source": []
  }
 ],
 "metadata": {
  "kernelspec": {
   "display_name": "Python 3",
   "language": "python",
   "name": "python3"
  },
  "language_info": {
   "name": "python",
   "version": "3.10.10"
  },
  "orig_nbformat": 4,
  "vscode": {
   "interpreter": {
    "hash": "dca90fd923e93b5161c5d62da51754abf6991391aff31970ad5f67e095c4f5b4"
   }
  }
 },
 "nbformat": 4,
 "nbformat_minor": 2
}
